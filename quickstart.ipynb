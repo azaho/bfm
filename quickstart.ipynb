{
 "cells": [
  {
   "cell_type": "markdown",
   "metadata": {
    "vscode": {
     "languageId": "plaintext"
    }
   },
   "source": [
    "## 1. Loading subject data"
   ]
  },
  {
   "cell_type": "code",
   "execution_count": 1,
   "metadata": {},
   "outputs": [
    {
     "name": "stdout",
     "output_type": "stream",
     "text": [
      "Subject btbank1 has 130 electrodes at sampling rate 2048 Hz\n",
      "Electrode labels: ['F3aOFa2', 'F3aOFa3', 'F3aOFa4', 'F3aOFa7', 'F3aOFa8', 'F3aOFa9', 'F3aOFa10', 'F3aOFa11', 'F3aOFa12', 'F3aOFa13', 'F3aOFa14', 'F3aOFa15', 'F3aOFa16', 'F3bIaOFb1', 'F3bIaOFb2', 'F3bIaOFb3', 'F3bIaOFb4', 'F3bIaOFb5', 'F3bIaOFb6', 'F3bIaOFb7', 'F3bIaOFb8', 'F3bIaOFb9', 'F3bIaOFb10', 'F3bIaOFb11', 'F3bIaOFb12', 'F3bIaOFb13', 'F3bIaOFb14', 'F3bIaOFb15', 'F3bIaOFb16', 'F3cId1', 'F3cId2', 'F3cId3', 'F3cId4', 'F3cId5', 'F3cId6', 'F3cId7', 'F3cId8', 'F3cId9', 'F3cId10', 'T1aIb1', 'T1aIb2', 'T1aIb3', 'T1aIb4', 'T1aIb5', 'T1aIb6', 'T1aIb7', 'T1aIb8', 'T2aA1', 'T2aA2', 'T2aA3', 'T2aA4', 'T2aA5', 'T2aA6', 'T2aA7', 'T2aA8', 'T2aA9', 'T2aA10', 'T2aA11', 'T2aA12', 'T2bHa1', 'T2bHa3', 'T2bHa4', 'T2bHa5', 'T2bHa7', 'T2bHa8', 'T2bHa9', 'T2bHa10', 'T2bHa11', 'T2bHa12', 'T2bHa13', 'T2bHa14', 'T1bIc1', 'T1bIc2', 'T1bIc3', 'T1bIc4', 'T1bIc5', 'T1bIc6', 'T1bIc7', 'T1bIc8', 'F3dIe1', 'F3dIe2', 'F3dIe3', 'F3dIe4', 'F3dIe5', 'F3dIe6', 'F3dIe7', 'F3dIe8', 'F3dIe9', 'F3dIe10', 'F3dIe14', 'T3aHb6', 'T3aHb9', 'T3aHb10', 'T3aHb12', 'T1cIf1', 'T1cIf2', 'T1cIf3', 'T1cIf4', 'T1cIf5', 'T1cIf6', 'T1cIf7', 'T1cIf8', 'T1cIf10', 'T1cIf11', 'T1cIf12', 'T1cIf13', 'T1cIf14', 'T1cIf15', 'T1cIf16', 'T2c4', 'T2c5', 'T2c6', 'T2c7', 'T2c8', 'T3bOT1', 'T3bOT2', 'T3bOT3', 'T3bOT4', 'T3bOT5', 'T3bOT6', 'T3bOT8', 'T3bOT9', 'T3bOT10', 'T3bOT12', 'T2d1', 'T2d2', 'T2d3', 'T2d4', 'T2d5', 'T2d6']\n",
      "\n",
      "Example all electrode data shape: torch.Size([130, 4096])\n",
      "Example all electrode data: tensor([[-24.7234, -25.7867, -25.5209,  ..., -61.4097, -64.3339, -71.5117],\n",
      "        [ 22.0649,  19.6724,  21.2674,  ..., -26.3184, -31.1036, -33.7620],\n",
      "        [135.3139, 137.4407, 140.0991,  ...,  47.0542,  45.4591,  38.8130],\n",
      "        ...,\n",
      "        [  9.3045,  13.5580,  15.4189,  ..., -68.3216, -62.4730, -67.5240],\n",
      "        [ -4.5193,   0.7975,   1.3292,  ..., -68.0557, -64.0681, -70.1825],\n",
      "        [-27.1160, -22.3308, -19.9382,  ..., -33.2303, -31.3694, -35.6229]])\n",
      "\n"
     ]
    }
   ],
   "source": [
    "from subject.braintreebank import BrainTreebankSubject\n",
    "\n",
    "subject_id, trial_id = 1, 1\n",
    "subject = BrainTreebankSubject(subject_id, cache=False)\n",
    "subject.load_neural_data(trial_id)\n",
    "\n",
    "electrode_labels = subject.get_electrode_labels()\n",
    "print(f\"Subject {subject.subject_identifier} has {len(electrode_labels)} electrodes at sampling rate {subject.get_sampling_rate()} Hz\")\n",
    "print(f\"Electrode labels: {electrode_labels}\\n\")\n",
    "\n",
    "example_all_electrode_data = subject.get_all_electrode_data(trial_id, window_from=0, window_to=4096)\n",
    "print(f\"Example all electrode data shape: {example_all_electrode_data.shape}\")\n",
    "print(f\"Example all electrode data: {example_all_electrode_data}\\n\")"
   ]
  },
  {
   "cell_type": "code",
   "execution_count": 6,
   "metadata": {},
   "outputs": [
    {
     "data": {
      "text/plain": [
       "{'F3aOFa2': 'ctx-rh-medialorbitofrontal',\n",
       " 'F3aOFa3': 'ctx-rh-lateralorbitofrontal',\n",
       " 'F3aOFa4': 'ctx-rh-lateralorbitofrontal',\n",
       " 'F3aOFa7': 'ctx-rh-lateralorbitofrontal',\n",
       " 'F3aOFa8': 'ctx-rh-lateralorbitofrontal',\n",
       " 'F3aOFa9': 'ctx-rh-lateralorbitofrontal',\n",
       " 'F3aOFa10': 'ctx-rh-lateralorbitofrontal',\n",
       " 'F3aOFa11': 'ctx-rh-parstriangularis',\n",
       " 'F3aOFa12': 'ctx-rh-parstriangularis',\n",
       " 'F3aOFa13': 'ctx-rh-parstriangularis',\n",
       " 'F3aOFa14': 'ctx-rh-parstriangularis',\n",
       " 'F3aOFa15': 'ctx-rh-parstriangularis',\n",
       " 'F3aOFa16': 'ctx-rh-parstriangularis',\n",
       " 'F3bIaOFb1': 'ctx-rh-medialorbitofrontal',\n",
       " 'F3bIaOFb2': 'ctx-rh-medialorbitofrontal',\n",
       " 'F3bIaOFb3': 'ctx-rh-lateralorbitofrontal',\n",
       " 'F3bIaOFb4': 'ctx-rh-lateralorbitofrontal',\n",
       " 'F3bIaOFb5': 'ctx-rh-lateralorbitofrontal',\n",
       " 'F3bIaOFb6': 'ctx-rh-lateralorbitofrontal',\n",
       " 'F3bIaOFb7': 'ctx-rh-lateralorbitofrontal',\n",
       " 'F3bIaOFb8': 'ctx-rh-lateralorbitofrontal',\n",
       " 'F3bIaOFb9': 'ctx-rh-lateralorbitofrontal',\n",
       " 'F3bIaOFb10': 'ctx-rh-insula',\n",
       " 'F3bIaOFb11': 'ctx-rh-insula',\n",
       " 'F3bIaOFb12': 'ctx-rh-parsopercularis',\n",
       " 'F3bIaOFb13': 'ctx-rh-parsopercularis',\n",
       " 'F3bIaOFb14': 'ctx-rh-parsopercularis',\n",
       " 'F3bIaOFb15': 'ctx-rh-parsopercularis',\n",
       " 'F3bIaOFb16': 'ctx-rh-parsopercularis',\n",
       " 'F3cId1': 'ctx-rh-insula',\n",
       " 'F3cId2': 'ctx-rh-insula',\n",
       " 'F3cId3': 'ctx-rh-insula',\n",
       " 'F3cId4': 'ctx-rh-precentral',\n",
       " 'F3cId5': 'ctx-rh-precentral',\n",
       " 'F3cId6': 'ctx-rh-precentral',\n",
       " 'F3cId7': 'ctx-rh-precentral',\n",
       " 'F3cId8': 'ctx-rh-precentral',\n",
       " 'F3cId9': 'ctx-rh-precentral',\n",
       " 'F3cId10': 'Unknown',\n",
       " 'T1aIb1': 'ctx-rh-insula',\n",
       " 'T1aIb2': 'ctx-rh-insula',\n",
       " 'T1aIb3': 'ctx-rh-insula',\n",
       " 'T1aIb4': 'ctx-rh-superiortemporal',\n",
       " 'T1aIb5': 'ctx-rh-superiortemporal',\n",
       " 'T1aIb6': 'ctx-rh-superiortemporal',\n",
       " 'T1aIb7': 'ctx-rh-superiortemporal',\n",
       " 'T1aIb8': 'ctx-rh-superiortemporal',\n",
       " 'T2aA1': 'Right-Amygdala',\n",
       " 'T2aA2': 'Right-Amygdala',\n",
       " 'T2aA3': 'Right-Amygdala',\n",
       " 'T2aA4': 'ctx-rh-insula',\n",
       " 'T2aA5': 'Right-Amygdala',\n",
       " 'T2aA6': 'ctx-rh-insula',\n",
       " 'T2aA7': 'ctx-rh-superiortemporal',\n",
       " 'T2aA8': 'ctx-rh-superiortemporal',\n",
       " 'T2aA9': 'ctx-rh-middletemporal',\n",
       " 'T2aA10': 'ctx-rh-middletemporal',\n",
       " 'T2aA11': 'ctx-rh-middletemporal',\n",
       " 'T2aA12': 'ctx-rh-middletemporal',\n",
       " 'T2bHa1': 'Right-Hippocampus',\n",
       " 'T2bHa3': 'Right-Hippocampus',\n",
       " 'T2bHa4': 'Right-Hippocampus',\n",
       " 'T2bHa5': 'Right-Hippocampus',\n",
       " 'T2bHa7': 'ctx-rh-inferiortemporal',\n",
       " 'T2bHa8': 'ctx-rh-inferiortemporal',\n",
       " 'T2bHa9': 'ctx-rh-inferiortemporal',\n",
       " 'T2bHa10': 'ctx-rh-inferiortemporal',\n",
       " 'T2bHa11': 'ctx-rh-inferiortemporal',\n",
       " 'T2bHa12': 'ctx-rh-middletemporal',\n",
       " 'T2bHa13': 'ctx-rh-middletemporal',\n",
       " 'T2bHa14': 'ctx-rh-middletemporal',\n",
       " 'T1bIc1': 'ctx-rh-insula',\n",
       " 'T1bIc2': 'ctx-rh-insula',\n",
       " 'T1bIc3': 'ctx-rh-superiortemporal',\n",
       " 'T1bIc4': 'ctx-rh-superiortemporal',\n",
       " 'T1bIc5': 'ctx-rh-superiortemporal',\n",
       " 'T1bIc6': 'ctx-rh-superiortemporal',\n",
       " 'T1bIc7': 'ctx-rh-superiortemporal',\n",
       " 'T1bIc8': 'ctx-rh-superiortemporal',\n",
       " 'F3dIe1': 'ctx-rh-insula',\n",
       " 'F3dIe2': 'ctx-rh-insula',\n",
       " 'F3dIe3': 'ctx-rh-insula',\n",
       " 'F3dIe4': 'ctx-rh-insula',\n",
       " 'F3dIe5': 'ctx-rh-insula',\n",
       " 'F3dIe6': 'ctx-rh-postcentral',\n",
       " 'F3dIe7': 'ctx-rh-postcentral',\n",
       " 'F3dIe8': 'ctx-rh-postcentral',\n",
       " 'F3dIe9': 'ctx-rh-postcentral',\n",
       " 'F3dIe10': 'ctx-rh-postcentral',\n",
       " 'F3dIe14': 'ctx-rh-postcentral',\n",
       " 'T3aHb6': 'ctx-rh-middletemporal',\n",
       " 'T3aHb9': 'ctx-rh-middletemporal',\n",
       " 'T3aHb10': 'ctx-rh-middletemporal',\n",
       " 'T3aHb12': 'ctx-rh-middletemporal',\n",
       " 'T1cIf1': 'ctx-rh-insula',\n",
       " 'T1cIf2': 'ctx-rh-insula',\n",
       " 'T1cIf3': 'ctx-rh-insula',\n",
       " 'T1cIf4': 'ctx-rh-transversetemporal',\n",
       " 'T1cIf5': 'ctx-rh-transversetemporal',\n",
       " 'T1cIf6': 'ctx-rh-superiortemporal',\n",
       " 'T1cIf7': 'ctx-rh-superiortemporal',\n",
       " 'T1cIf8': 'ctx-rh-superiortemporal',\n",
       " 'T1cIf10': 'ctx-rh-superiortemporal',\n",
       " 'T1cIf11': 'ctx-rh-superiortemporal',\n",
       " 'T1cIf12': 'ctx-rh-superiortemporal',\n",
       " 'T1cIf13': 'ctx-rh-superiortemporal',\n",
       " 'T1cIf14': 'ctx-rh-superiortemporal',\n",
       " 'T1cIf15': 'ctx-rh-superiortemporal',\n",
       " 'T1cIf16': 'ctx-rh-superiortemporal',\n",
       " 'T2c4': 'ctx-rh-bankssts',\n",
       " 'T2c5': 'ctx-rh-middletemporal',\n",
       " 'T2c6': 'ctx-rh-middletemporal',\n",
       " 'T2c7': 'ctx-rh-middletemporal',\n",
       " 'T2c8': 'ctx-rh-middletemporal',\n",
       " 'T3bOT1': 'ctx-rh-fusiform',\n",
       " 'T3bOT2': 'ctx-rh-fusiform',\n",
       " 'T3bOT3': 'ctx-rh-fusiform',\n",
       " 'T3bOT4': 'ctx-rh-fusiform',\n",
       " 'T3bOT5': 'ctx-rh-fusiform',\n",
       " 'T3bOT6': 'ctx-rh-fusiform',\n",
       " 'T3bOT8': 'ctx-rh-inferiortemporal',\n",
       " 'T3bOT9': 'ctx-rh-inferiortemporal',\n",
       " 'T3bOT10': 'ctx-rh-inferiortemporal',\n",
       " 'T3bOT12': 'ctx-rh-middletemporal',\n",
       " 'T2d1': 'ctx-rh-inferiorparietal',\n",
       " 'T2d2': 'ctx-rh-inferiorparietal',\n",
       " 'T2d3': 'ctx-rh-inferiorparietal',\n",
       " 'T2d4': 'ctx-rh-inferiorparietal',\n",
       " 'T2d5': 'ctx-rh-inferiorparietal',\n",
       " 'T2d6': 'ctx-rh-inferiorparietal'}"
      ]
     },
     "execution_count": 6,
     "metadata": {},
     "output_type": "execute_result"
    }
   ],
   "source": [
    "electrode_locations = {electrode_label: subject.get_electrode_metadata(electrode_label)['DesikanKilliany'] for electrode_label in subject.get_electrode_labels()}\n",
    "electrode_locations"
   ]
  },
  {
   "cell_type": "code",
   "execution_count": 8,
   "metadata": {},
   "outputs": [
    {
     "data": {
      "text/plain": [
       "{'T2aA1': 'Right-Amygdala',\n",
       " 'T2aA2': 'Right-Amygdala',\n",
       " 'T2aA3': 'Right-Amygdala',\n",
       " 'T2aA5': 'Right-Amygdala'}"
      ]
     },
     "execution_count": 8,
     "metadata": {},
     "output_type": "execute_result"
    }
   ],
   "source": [
    "amygdala_electrode_locations = {label: location for label, location in electrode_locations.items() if 'amygdala' in location.lower()}\n",
    "amygdala_electrode_locations"
   ]
  },
  {
   "cell_type": "code",
   "execution_count": 1,
   "metadata": {},
   "outputs": [
    {
     "name": "stdout",
     "output_type": "stream",
     "text": [
      "For subject 10, trial 0, movie 'Cars 2'\n",
      "[ 148150 2335453]\n",
      "For subject 7, trial 0, movie 'Cars 2'\n",
      "[  28933 2136814]\n"
     ]
    }
   ],
   "source": [
    "# Get the neural data index for a given subject, trial, and movie time\n",
    "\n",
    "from evaluation.neuroprobe.config import ROOT_DIR, SAMPLING_RATE\n",
    "import os\n",
    "import pandas as pd\n",
    "import numpy as np\n",
    "\n",
    "def obtain_neural_data_index(sub_id, trial_id, movie_times):\n",
    "    # Data frames column IDs\n",
    "    start_col, end_col = 'start', 'end'\n",
    "    trig_time_col, trig_idx_col, est_idx_col, est_end_idx_col = 'movie_time', 'index', 'est_idx', 'est_end_idx'\n",
    "\n",
    "    # Path to trigger times csv file\n",
    "    trigger_times_file = os.path.join(ROOT_DIR, f'subject_timings/sub_{sub_id}_trial{trial_id:03}_timings.csv')\n",
    "\n",
    "    trigs_df = pd.read_csv(trigger_times_file)\n",
    "    #display(trigs_df.head())\n",
    "\n",
    "    last_t = trigs_df[trig_time_col].iloc[-1]\n",
    "    assert np.all(movie_times < last_t), \"Movie times must be less than the last trigger time\"\n",
    "    \n",
    "    # Vectorized nearest trigger finding\n",
    "    start_indices = np.searchsorted(trigs_df[trig_time_col].values, movie_times)\n",
    "    start_indices = np.maximum(start_indices, 0) # handle the edge case where movie starts right at the word\n",
    "    \n",
    "    # Vectorized sample index calculation\n",
    "    return np.round(\n",
    "        trigs_df.loc[start_indices, trig_idx_col].values + \n",
    "        (movie_times - trigs_df.loc[start_indices, trig_time_col].values) * SAMPLING_RATE\n",
    "    ).astype(int)\n",
    "\n",
    "# subject 10, trial 0, movie \"Cars 2\"\n",
    "print(\"For subject 10, trial 0, movie 'Cars 2'\")\n",
    "print(obtain_neural_data_index(10, 0, np.array([0, 1000])))\n",
    "\n",
    "# subject 7, trial 0, movie \"Cars 2\"\n",
    "print(\"For subject 7, trial 0, movie 'Cars 2'\")\n",
    "print(obtain_neural_data_index(7, 0, np.array([0, 1000])))"
   ]
  }
 ],
 "metadata": {
  "kernelspec": {
   "display_name": "DISPLAY NAME",
   "language": "python",
   "name": ".venv"
  },
  "language_info": {
   "codemirror_mode": {
    "name": "ipython",
    "version": 3
   },
   "file_extension": ".py",
   "mimetype": "text/x-python",
   "name": "python",
   "nbconvert_exporter": "python",
   "pygments_lexer": "ipython3",
   "version": "3.9.12"
  }
 },
 "nbformat": 4,
 "nbformat_minor": 2
}
