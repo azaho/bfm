{
 "cells": [
  {
   "cell_type": "code",
   "execution_count": 1,
   "id": "65f649d4",
   "metadata": {},
   "outputs": [],
   "source": [
    "import os\n",
    "import json\n",
    "import pandas as pd\n",
    "import numpy as np\n",
    "import torch\n",
    "import cv2\n",
    "from PIL import Image\n",
    "import clip\n",
    "from tqdm import tqdm\n",
    "import argparse\n",
    "from pathlib import Path\n",
    "import matplotlib.pyplot as plt"
   ]
  },
  {
   "cell_type": "code",
   "execution_count": 2,
   "id": "fddeae17",
   "metadata": {},
   "outputs": [
    {
     "name": "stdout",
     "output_type": "stream",
     "text": [
      "Current working directory: /net/vast-storage/scratch/vast/fiete/inimai/bfm\n",
      "Directory contents: ['.git', '.gitignore', '.venv', 'README.md', 'analyses', 'assets', 'evaluation', 'model', 'pretrain.py', 'quickstart.ipynb', 'requirements.txt', 'runs', 'subject', 'training_setup', 'utils']\n"
     ]
    }
   ],
   "source": [
    "print(\"Current working directory:\", os.getcwd())\n",
    "print(\"Directory contents:\", os.listdir('.'))\n"
   ]
  },
  {
   "cell_type": "code",
   "execution_count": 26,
   "id": "83c2e213",
   "metadata": {},
   "outputs": [
    {
     "name": "stdout",
     "output_type": "stream",
     "text": [
      "Features shape: (7027, 768)\n",
      "Timestamps shape: (7027,)\n"
     ]
    }
   ],
   "source": [
    "# Load the npz file in analyses/inimai/\n",
    "# npz_path = '/om2/data/public/braintreebank_movies_preprocessed/clip_features/ant-man_clip_features.npz'  # example file name, adjust as needed\n",
    "npz_path = '/om2/data/public/braintreebank_movies_preprocessed/audio_features/ant-man_audio_features.npz'\n",
    "\n",
    "if os.path.exists(npz_path):\n",
    "    data = np.load(npz_path)\n",
    "    features = data['features']\n",
    "    timestamps = data['timestamps']\n",
    "    print(\"Features shape:\", features.shape)\n",
    "    print(\"Timestamps shape:\", timestamps.shape)\n",
    "else:\n",
    "    print(f\"File not found: {npz_path}\")\n"
   ]
  },
  {
   "cell_type": "code",
   "execution_count": 27,
   "id": "662949c9",
   "metadata": {},
   "outputs": [
    {
     "data": {
      "text/plain": [
       "array([[-0.01221921,  0.00530673, -0.02411102, ...,  0.0061173 ,\n",
       "        -0.00451745,  0.00156902],\n",
       "       [-0.01221921,  0.00530673, -0.02411102, ...,  0.0061173 ,\n",
       "        -0.00451745,  0.00156902],\n",
       "       [-0.01221921,  0.00530673, -0.02411102, ...,  0.0061173 ,\n",
       "        -0.00451745,  0.00156902],\n",
       "       ...,\n",
       "       [-0.01216354, -0.00876227, -0.00537215, ...,  0.00152006,\n",
       "        -0.01183155, -0.00411074],\n",
       "       [-0.01936015,  0.00232733, -0.00897115, ..., -0.00304621,\n",
       "        -0.00338279, -0.0289305 ],\n",
       "       [-0.01221921,  0.00530673, -0.02411102, ...,  0.0061173 ,\n",
       "        -0.00451745,  0.00156902]], dtype=float32)"
      ]
     },
     "execution_count": 27,
     "metadata": {},
     "output_type": "execute_result"
    }
   ],
   "source": [
    "features"
   ]
  },
  {
   "cell_type": "code",
   "execution_count": 28,
   "id": "1d1c60f7",
   "metadata": {},
   "outputs": [
    {
     "data": {
      "text/plain": [
       "array([0.000e+00, 1.000e+00, 2.000e+00, ..., 7.024e+03, 7.025e+03,\n",
       "       7.026e+03])"
      ]
     },
     "execution_count": 28,
     "metadata": {},
     "output_type": "execute_result"
    }
   ],
   "source": [
    "timestamps"
   ]
  },
  {
   "cell_type": "code",
   "execution_count": 8,
   "id": "d3a5c854",
   "metadata": {},
   "outputs": [
    {
     "ename": "AttributeError",
     "evalue": "'AudioFileClip' object has no attribute 'shape'",
     "output_type": "error",
     "traceback": [
      "\u001b[0;31m---------------------------------------------------------------------------\u001b[0m",
      "\u001b[0;31mAttributeError\u001b[0m                            Traceback (most recent call last)",
      "Cell \u001b[0;32mIn[8], line 12\u001b[0m\n\u001b[1;32m     10\u001b[0m subclip \u001b[38;5;241m=\u001b[39m video\u001b[38;5;241m.\u001b[39msubclipped(start_time, end_time)\n\u001b[1;32m     11\u001b[0m audio \u001b[38;5;241m=\u001b[39m subclip\u001b[38;5;241m.\u001b[39maudio\n\u001b[0;32m---> 12\u001b[0m \u001b[38;5;28mprint\u001b[39m(\u001b[38;5;124m\"\u001b[39m\u001b[38;5;124mAudio shape:\u001b[39m\u001b[38;5;124m\"\u001b[39m, \u001b[43maudio\u001b[49m\u001b[38;5;241;43m.\u001b[39;49m\u001b[43mshape\u001b[49m)\n\u001b[1;32m     13\u001b[0m audio_array \u001b[38;5;241m=\u001b[39m audio\u001b[38;5;241m.\u001b[39mto_soundarray(fps\u001b[38;5;241m=\u001b[39m\u001b[38;5;241m44100\u001b[39m)  \u001b[38;5;66;03m# 44100 Hz is standard audio sample rate\u001b[39;00m\n\u001b[1;32m     14\u001b[0m \u001b[38;5;28mprint\u001b[39m(\u001b[38;5;124m\"\u001b[39m\u001b[38;5;124mAudio array shape:\u001b[39m\u001b[38;5;124m\"\u001b[39m, audio_array\u001b[38;5;241m.\u001b[39mshape)\n",
      "\u001b[0;31mAttributeError\u001b[0m: 'AudioFileClip' object has no attribute 'shape'"
     ]
    }
   ],
   "source": [
    "from moviepy import VideoFileClip\n",
    "\n",
    "movie_path = '/om2/data/public/braintreebank_movies/ant-man.mp4'\n",
    "start_time = 10\n",
    "end_time = 20\n",
    "duration = end_time - start_time\n",
    "\n",
    "if os.path.exists(movie_path):\n",
    "    video = VideoFileClip(movie_path)\n",
    "    subclip = video.subclipped(start_time, end_time)\n",
    "    audio = subclip.audio\n",
    "    print(\"Audio shape:\", audio.shape)\n",
    "    audio_array = audio.to_soundarray(fps=44100)  # 44100 Hz is standard audio sample rate\n",
    "    print(\"Audio array shape:\", audio_array.shape)\n",
    "    # Convert to mono if stereo\n",
    "    if len(audio_array.shape) > 1 and audio_array.shape[1] > 1:\n",
    "        print(\"Converting to mono\")\n",
    "        audio_array = np.mean(audio_array, axis=1)\n",
    "    print(\"Extracted audio shape:\", audio_array.shape)\n",
    "    video.close()\n",
    "else:\n",
    "    print(f\"Movie file not found: {movie_path}\")\n"
   ]
  }
 ],
 "metadata": {
  "kernelspec": {
   "display_name": "Python (myenv)",
   "language": "python",
   "name": "myenv"
  },
  "language_info": {
   "codemirror_mode": {
    "name": "ipython",
    "version": 3
   },
   "file_extension": ".py",
   "mimetype": "text/x-python",
   "name": "python",
   "nbconvert_exporter": "python",
   "pygments_lexer": "ipython3",
   "version": "3.9.23"
  }
 },
 "nbformat": 4,
 "nbformat_minor": 5
}
