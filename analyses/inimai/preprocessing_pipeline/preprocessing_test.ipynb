{
 "cells": [
  {
   "cell_type": "code",
   "execution_count": 1,
   "id": "65f649d4",
   "metadata": {},
   "outputs": [],
   "source": [
    "import os\n",
    "import json\n",
    "import pandas as pd\n",
    "import numpy as np\n",
    "import torch\n",
    "import cv2\n",
    "from PIL import Image\n",
    "import clip\n",
    "from tqdm import tqdm\n",
    "import argparse\n",
    "from pathlib import Path\n",
    "import matplotlib.pyplot as plt"
   ]
  },
  {
   "cell_type": "code",
   "execution_count": 3,
   "id": "fddeae17",
   "metadata": {},
   "outputs": [
    {
     "name": "stdout",
     "output_type": "stream",
     "text": [
      "Current working directory: /net/vast-storage/scratch/vast/fiete/inimai/bfm\n",
      "Directory contents: ['.git', '.gitignore', '.venv', 'README.md', 'analyses', 'assets', 'evaluation', 'model', 'pretrain.py', 'quickstart.ipynb', 'requirements.txt', 'runs', 'subject', 'training_setup', 'utils']\n"
     ]
    }
   ],
   "source": [
    "print(\"Current working directory:\", os.getcwd())\n",
    "print(\"Directory contents:\", os.listdir('.'))\n"
   ]
  },
  {
   "cell_type": "code",
   "execution_count": 11,
   "id": "83c2e213",
   "metadata": {},
   "outputs": [
    {
     "name": "stdout",
     "output_type": "stream",
     "text": [
      "File not found: ./analyses/inimai/ant-man_wav2vec_features.npz\n"
     ]
    }
   ],
   "source": [
    "# Load the npz file in analyses/inimai/\n",
    "npz_path = os.path.join(\".\", \"analyses\", \"inimai\", \"ant-man_wav2vec_features.npz\")  # example file name, adjust as needed\n",
    "\n",
    "if os.path.exists(npz_path):\n",
    "    data = np.load(npz_path)\n",
    "    features = data['features']\n",
    "    timestamps = data['timestamps']\n",
    "    print(\"Features shape:\", features.shape)\n",
    "    print(\"Timestamps shape:\", timestamps.shape)\n",
    "else:\n",
    "    print(f\"File not found: {npz_path}\")\n"
   ]
  },
  {
   "cell_type": "code",
   "execution_count": 9,
   "id": "662949c9",
   "metadata": {},
   "outputs": [
    {
     "data": {
      "text/plain": [
       "array([[ 0.02305782, -0.05984144,  0.07370481, ..., -0.02029492,\n",
       "         0.01463362, -0.03453336],\n",
       "       [ 0.02509941, -0.04188292, -0.01424001, ...,  0.02588022,\n",
       "        -0.069948  , -0.01069807],\n",
       "       [-0.00022785, -0.00026797, -0.0034005 , ...,  0.00324798,\n",
       "        -0.04160109,  0.02357408],\n",
       "       ...,\n",
       "       [ 0.02091053, -0.05051605,  0.00723786, ...,  0.02296671,\n",
       "        -0.07023328,  0.00064373],\n",
       "       [-0.03542812,  0.00821993,  0.0431893 , ...,  0.0098295 ,\n",
       "        -0.03587662,  0.04218133],\n",
       "       [-0.03027866, -0.03300298,  0.01949794, ..., -0.00590275,\n",
       "        -0.03413252, -0.00390548]], dtype=float32)"
      ]
     },
     "execution_count": 9,
     "metadata": {},
     "output_type": "execute_result"
    }
   ],
   "source": [
    "features"
   ]
  },
  {
   "cell_type": "code",
   "execution_count": 10,
   "id": "1d1c60f7",
   "metadata": {},
   "outputs": [
    {
     "data": {
      "text/plain": [
       "array([   0.        ,  599.97497497, 1199.99165832, 1799.9666333 ,\n",
       "       2399.98331665, 3000.        , 3599.97497497, 4199.99165832,\n",
       "       4799.9666333 , 5399.98331665, 6000.        , 6599.97497497])"
      ]
     },
     "execution_count": 10,
     "metadata": {},
     "output_type": "execute_result"
    }
   ],
   "source": [
    "timestamps"
   ]
  }
 ],
 "metadata": {
  "kernelspec": {
   "display_name": "Python (myenv)",
   "language": "python",
   "name": "myenv"
  },
  "language_info": {
   "codemirror_mode": {
    "name": "ipython",
    "version": 3
   },
   "file_extension": ".py",
   "mimetype": "text/x-python",
   "name": "python",
   "nbconvert_exporter": "python",
   "pygments_lexer": "ipython3",
   "version": "3.9.23"
  }
 },
 "nbformat": 4,
 "nbformat_minor": 5
}
